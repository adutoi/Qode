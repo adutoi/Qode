{
 "cells": [
  {
   "cell_type": "markdown",
   "metadata": {},
   "source": [
    "© Copyright 2020 Anthony D. Dutoi\n",
    "\n",
    "This file is part of TonyUtil.\n",
    "\n",
    "TonyUtil is free software: you can redistribute it and/or modify\n",
    "it under the terms of the GNU General Public License as published by\n",
    "the Free Software Foundation, either version 3 of the License, or\n",
    "(at your option) any later version.\n",
    "\n",
    "This program is distributed in the hope that it will be useful,\n",
    "but WITHOUT ANY WARRANTY; without even the implied warranty of\n",
    "MERCHANTABILITY or FITNESS FOR A PARTICULAR PURPOSE.  See the\n",
    "GNU General Public License for more details.\n",
    "\n",
    "You should have received a copy of the GNU General Public License\n",
    "along with this program.  If not, see <http://www.gnu.org/licenses/>."
   ]
  },
  {
   "cell_type": "markdown",
   "metadata": {},
   "source": [
    "## Concept / Theory\n",
    "\n",
    "This module helps to implement a uniform conceptualiztion of a context-dependent evaluation of an expression or tree.  This could be thought of as a (massive) simplification of utilities found in the `ast` module of Python.  Its form is inspired by the concept of Lambda calculus.\n",
    "\n",
    "In understanding its utility, it is important to start by pointing out how power and convenience are generally juxtaposed in the design of APIs.  The simpler a paradigm is, the easier it is to use, but less flexibility is the price usually payed for simplicity.  The idea here is to hit the sweet spot in making something that is powerful enough to do just what I need it to do, and not much more.\n",
    "\n",
    "The idea is to be able to build nested objects (expressions or generic trees) whose evaluation then depends on some runtime context that is handed to it after it is completed.  The same tree could then be used to generate a variety of outputs from a single logical representation of a nested structure.  At an extreme end, this describes a programming language (in terms reminiscent of Lambda calculus), whereby a source code produces different results based on the context (input) which it is given.  There is clearly no reason to write a new programming language (which is why this is simpler than the `ast` module), but simple such a utility will still be valuable when a certain level of homoegeneity can be expected among the kinds of objects that are nested (for example, every node representing a mathematical operation, and the branching terminating at numbers).\n",
    "\n",
    "## Implementation / Practice\n",
    "\n",
    "The entire module consists of one class `tree_node`, meant to be used as a base class, and one function `evaluate`.\n",
    "\n",
    "An instance of the `tree_node` class (more accurately, a child class thereof) maintains references to other objects, called subnodes.  These subnodes may be other instances of `tree_node` (building a branched tree), or other terminal objects that obey certain rules, discussed below.  Each subnode is identified by a label, which can be its dictionary key (or list index), if the subnodes are passed in at initialization time.  A subnode can also be added later with the concrete method `_append()`, meant for use by the implementation of the public API of the child class.  \n",
    "\n",
    "    <instance>._append(subnode, label=None)\n",
    "\n",
    "This adds a new `subnode`, associated with a given `label` (any hashable object).  If `label` is `None`, a sequential integer label is automatically generated.  Either way, the applied label is returned by this method.  Currently, using mixtures of specified and generated labels could result in an accidental name clash and raise an exception.  Presently, there is no plan to provide a way to remove subnodes or replace the subnode associated with a given label.  \n",
    "\n",
    "The `tree_node` class expects one method to be implemented by a child class.\n",
    "\n",
    "    <instance>._implementation(label, context)\n",
    "\n",
    "This method takes the `context` and `label` (which define how the current object is to be evaluated) and uses it as a basis for constructing and independent `subcontext` (for downward communication to the subnodes that will be evaluated).  This is returned as the first component of a 2-tuple, `(subcontext, action)`.  The second component, `action`, is itself a function that takes a single argument.\n",
    "\n",
    "    action(evaluated_subnodes)\n",
    "\n",
    "This function uses the dictionary `evaluated_subnodes` (which associates the evaluated subnodes with their original labels) to evaluate the result for the current node, which shall be returned (for upward communication to the parent node).  Bear in mind that the current object's `label` and `context` are part of the enclosing scope of `action` and thus determine the way in which it is evaluated (which is the whole point).\n",
    "\n",
    "Nodes (subnodes) are evaluated by the public function `evaluate()`.\n",
    "\n",
    "    evaluate(node, label, context)\n",
    "\n",
    "This simply calls the `_evaluate()` method of the argument `node`.\n",
    "\n",
    "    <instance>._evaluate(label, context)\n",
    "\n",
    "The argument `node` may be an instance of `tree_node` (for which this method is already defined), or in the case of bottoming out the recursion, any other class that has the method `_evaluate()` defined.  A tree built using instances of types derived from `tree_node` may therefore terminate with objects that are not `tree_node` instances, but which do have `_evaluate()` defined.  This should then return a concrete evaluation of the instance, in accordance with the values of `label` and `context`.  If `evaluate()` is called on a `node` argument that does not have a `_evaluate()` method defined for it, then `node` is passed as the first argument to a the `_evaluate_terminus()` method of the current `context`.\n",
    "\n",
    "    <instance>._evaluate_terminus(node, label, context)\n",
    "\n",
    "If this method will be relied upon (which can be convenient for allowing standard python data types to be termini of branches), then the implementor needs to ensure that the `_evaluate_terminus()` method is available in the `context` instance.\n",
    "\n",
    "The values of `label` and `context` which are handed down recursively may be used or discarded at any level, according to need by the implementor.  `label` distinguishes the instance being evaluated by \"name\" from potential sibling subnodes of a common parent `tree_node` instance. `context` defines the context in which which the object will be evaluated, which is common to all siblings (the context is provided by the parent, perhaps after modification of its own context).  It is entirely up to the implementor to define the format of the contents of contexts (except that a `_evaluate_terminus()` method might be required)."
   ]
  },
  {
   "cell_type": "code",
   "execution_count": 1,
   "metadata": {},
   "outputs": [],
   "source": [
    "from util.evaluation_tree import evaluate, tree_node"
   ]
  },
  {
   "cell_type": "markdown",
   "metadata": {},
   "source": [
    "## Usage\n",
    "\n",
    "Below is an absolutely trivial usage of the module, which does not take any advantage of the context dependence of the evaluation, but it is logically complete working code."
   ]
  },
  {
   "cell_type": "code",
   "execution_count": 2,
   "metadata": {},
   "outputs": [],
   "source": [
    "class dummy_node(tree_node):\n",
    "    def __init__(self, subnodes):\n",
    "        tree_node.__init__(self, subnodes)\n",
    "    def _implementation(self, label, context):\n",
    "        def evaluate_node(evaluated_subnodes):\n",
    "            return \"({})\".format(\", \".join(evaluated_subnodes.values()))\n",
    "        return context, evaluate_node\n",
    "\n",
    "class dummy_terminus(object):\n",
    "    def __init__(self, value):\n",
    "        self.value = value\n",
    "    def _evaluate(self, label, context):\n",
    "        return self.value"
   ]
  },
  {
   "cell_type": "code",
   "execution_count": 3,
   "metadata": {},
   "outputs": [
    {
     "name": "stdout",
     "output_type": "stream",
     "text": [
      "((a, b), c)\n"
     ]
    }
   ],
   "source": [
    "a = dummy_terminus(\"a\")\n",
    "b = dummy_terminus(\"b\")\n",
    "c = dummy_terminus(\"c\")\n",
    "\n",
    "A = dummy_node([a,b])\n",
    "Z = dummy_node([A,c])\n",
    "\n",
    "print(evaluate(Z))"
   ]
  },
  {
   "cell_type": "markdown",
   "metadata": {},
   "source": [
    "Here is a minimal example, wherein the same tree generates two different outputs."
   ]
  },
  {
   "cell_type": "code",
   "execution_count": 4,
   "metadata": {},
   "outputs": [],
   "source": [
    "class capitalization_terminus(object):\n",
    "    def __init__(self, value):\n",
    "        self.value = value\n",
    "    def _evaluate(self, label, context):\n",
    "        if context==\"A\":\n",
    "            return self.value.upper()\n",
    "        else:\n",
    "            return self.value"
   ]
  },
  {
   "cell_type": "code",
   "execution_count": 5,
   "metadata": {},
   "outputs": [
    {
     "name": "stdout",
     "output_type": "stream",
     "text": [
      "((a, b), c)\n",
      "((A, B), C)\n"
     ]
    }
   ],
   "source": [
    "a = capitalization_terminus(\"a\")\n",
    "b = capitalization_terminus(\"b\")\n",
    "c = capitalization_terminus(\"c\")\n",
    "\n",
    "A = dummy_node([a,b])\n",
    "Z = dummy_node([A,c])\n",
    "\n",
    "print(evaluate(Z))\n",
    "print(evaluate(Z, context=\"A\"))"
   ]
  },
  {
   "cell_type": "markdown",
   "metadata": {},
   "source": [
    "Now let's have some fun.  Let's create some simple expressions (using only + and -) which will return either the evaluated result or a printed string describing the expression, with proper parenthesization.  A better version of this (elsewhere) is one of the goals of this module."
   ]
  },
  {
   "cell_type": "code",
   "execution_count": 6,
   "metadata": {},
   "outputs": [],
   "source": [
    "from types import SimpleNamespace as struct\n",
    "\n",
    "class arithmetic_expression(object):\n",
    "    def __add__(self, other):\n",
    "        return binary_op(\"+\", self, other)\n",
    "    def __sub__(self, other):\n",
    "        return binary_op(\"-\", self, other)\n",
    "\n",
    "class binary_op(tree_node, arithmetic_expression):\n",
    "    def __init__(self, op, arg1, arg2):\n",
    "        tree_node.__init__(self, {1:arg1, 2:arg2})\n",
    "        self.op = op\n",
    "    def _implementation(self, label, context):\n",
    "        def evaluate_node(evaluated_subnodes):\n",
    "            parent_op = context.op\n",
    "            arg1 = evaluated_subnodes[1]\n",
    "            arg2 = evaluated_subnodes[2]\n",
    "            return context.functions[self.op](arg1, arg2, parent_op, label)\n",
    "        subcontext = struct(op=self.op, functions=context.functions, evaluate_terminus=context.evaluate_terminus)\n",
    "        return subcontext, evaluate_node\n",
    "\n",
    "class variable(arithmetic_expression):\n",
    "    def __init__(self, number, formatter=\"{}\"):\n",
    "        self.number = number\n",
    "        self.formatter = formatter\n",
    "\n",
    "def evaluate_variable(var, label, context):\n",
    "    parent_op = context.op\n",
    "    return context.functions[\"x\"](var.number, var.formatter, parent_op, label)\n",
    "\n",
    "def print_plus(arg1, arg2, parent_op, arg_num):\n",
    "    value = \"{} + {}\".format(arg1, arg2)\n",
    "    if parent_op==\"-\" and arg_num==2:\n",
    "        value = \"({})\".format(value)\n",
    "    return value\n",
    "\n",
    "def print_minus(arg1, arg2, parent_op, arg_num):\n",
    "    value = \"{} - {}\".format(arg1, arg2)\n",
    "    if parent_op==\"-\" and arg_num==2:\n",
    "        value = \"({})\".format(value)\n",
    "    return value\n",
    "\n",
    "def print_var(number, formatter, parent_op, arg_num):\n",
    "    value = formatter.format(number)\n",
    "    if number<0 and arg_num==2:\n",
    "        value = \"({})\".format(value)\n",
    "    return value\n",
    "\n",
    "def eval_plus(arg1, arg2, parent_op, arg_num):\n",
    "    return arg1 + arg2\n",
    "\n",
    "def eval_minus(arg1, arg2, parent_op, arg_num):\n",
    "    return arg1 - arg2\n",
    "\n",
    "def eval_var(number, formatter, parent_op, arg_num):\n",
    "    return number\n",
    "\n",
    "print_functions = {\"x\":print_var, \"+\":print_plus, \"-\":print_minus}\n",
    "eval_functions  = {\"x\":eval_var,  \"+\":eval_plus,  \"-\":eval_minus}\n",
    "\n",
    "print_context = struct(op=\"None\", functions=print_functions, evaluate_terminus=evaluate_variable)\n",
    "eval_context  = struct(op=\"None\", functions=eval_functions, evaluate_terminus=evaluate_variable)"
   ]
  },
  {
   "cell_type": "code",
   "execution_count": 7,
   "metadata": {},
   "outputs": [
    {
     "name": "stdout",
     "output_type": "stream",
     "text": [
      "-7 + 5 - 11 - (1 + (-3))  =  -11\n"
     ]
    }
   ],
   "source": [
    "one    = variable(1)\n",
    "Nthree = variable(-3)\n",
    "five   = variable(5)\n",
    "Nseven = variable(-7)\n",
    "eleven = variable(11)\n",
    "\n",
    "expr = Nseven + (five - eleven - (one + Nthree))\n",
    "\n",
    "formula = evaluate(expr, context=print_context)\n",
    "answer  = evaluate(expr, context=eval_context)\n",
    "print(\"{}  =  {}\".format(formula, answer))"
   ]
  },
  {
   "cell_type": "code",
   "execution_count": null,
   "metadata": {},
   "outputs": [],
   "source": []
  }
 ],
 "metadata": {
  "anaconda-cloud": {},
  "kernelspec": {
   "display_name": "Python 3",
   "language": "python",
   "name": "python3"
  },
  "language_info": {
   "codemirror_mode": {
    "name": "ipython",
    "version": 3
   },
   "file_extension": ".py",
   "mimetype": "text/x-python",
   "name": "python",
   "nbconvert_exporter": "python",
   "pygments_lexer": "ipython3",
   "version": "3.7.6"
  }
 },
 "nbformat": 4,
 "nbformat_minor": 1
}
