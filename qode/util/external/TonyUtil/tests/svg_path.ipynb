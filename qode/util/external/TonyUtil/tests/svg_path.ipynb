{
 "cells": [
  {
   "cell_type": "markdown",
   "metadata": {},
   "source": [
    "© Copyright 2020 Anthony D. Dutoi\n",
    "\n",
    "This file is part of TonyUtil.\n",
    "\n",
    "TonyUtil is free software: you can redistribute it and/or modify\n",
    "it under the terms of the GNU General Public License as published by\n",
    "the Free Software Foundation, either version 3 of the License, or\n",
    "(at your option) any later version.\n",
    "\n",
    "This program is distributed in the hope that it will be useful,\n",
    "but WITHOUT ANY WARRANTY; without even the implied warranty of\n",
    "MERCHANTABILITY or FITNESS FOR A PARTICULAR PURPOSE.  See the\n",
    "GNU General Public License for more details.\n",
    "\n",
    "You should have received a copy of the GNU General Public License\n",
    "along with this program.  If not, see <http://www.gnu.org/licenses/>."
   ]
  },
  {
   "cell_type": "code",
   "execution_count": 1,
   "metadata": {},
   "outputs": [],
   "source": [
    "from util import svg"
   ]
  },
  {
   "cell_type": "code",
   "execution_count": 2,
   "metadata": {},
   "outputs": [
    {
     "name": "stdout",
     "output_type": "stream",
     "text": [
      "<path d=\"POINTS\"/>\n",
      "\n"
     ]
    }
   ],
   "source": [
    "print(svg.path(points=\"POINTS\", color=None, alpha=None, weight=None, dash=None, fill=None))"
   ]
  },
  {
   "cell_type": "code",
   "execution_count": 3,
   "metadata": {},
   "outputs": [
    {
     "name": "stdout",
     "output_type": "stream",
     "text": [
      "<path stroke=\"COLOR\" stroke-opacity=\"0.5\" stroke-width=\"1\" stroke-dasharray=\"1 2\" fill=\"FILL\" d=\"POINTS\"/>\n",
      "\n"
     ]
    }
   ],
   "source": [
    "print(svg.path(points=\"POINTS\", color=\"COLOR\", alpha=0.5, weight=1, dash=\"1 2\", fill=\"FILL\"))"
   ]
  },
  {
   "cell_type": "code",
   "execution_count": 4,
   "metadata": {},
   "outputs": [
    {
     "name": "stdout",
     "output_type": "stream",
     "text": [
      "<path d=\"POINTS\">\n",
      "</path>\n",
      "\n"
     ]
    }
   ],
   "source": [
    "print(svg.path(points=[(None,\"POINTS\")], color=None, alpha=None, weight=None, dash=None, fill=None, duration=1))"
   ]
  },
  {
   "cell_type": "code",
   "execution_count": 5,
   "metadata": {},
   "outputs": [
    {
     "name": "stdout",
     "output_type": "stream",
     "text": [
      "<path>\n",
      "  <animate attributeName=\"d\" repeatCount=\"indefinite\" dur=\"1s\"\n",
      "    KeyTimes=\"0.1; 0.2\"\n",
      "    values=\"\n",
      "      POINTS1;\n",
      "      POINTS2\n",
      "    \"\n",
      "  />\n",
      "</path>\n",
      "\n"
     ]
    }
   ],
   "source": [
    "print(svg.path(points=[(0.1,\"POINTS1\"), (0.2,\"POINTS2\")], color=None, alpha=None, weight=None, dash=None, fill=None, duration=1))"
   ]
  },
  {
   "cell_type": "code",
   "execution_count": 6,
   "metadata": {},
   "outputs": [
    {
     "name": "stdout",
     "output_type": "stream",
     "text": [
      "<path stroke=\"COLOR\">\n",
      "  <animate attributeName=\"stroke-width\" repeatCount=\"indefinite\" dur=\"1s\"\n",
      "    KeyTimes=\"0.8; 0.9\"\n",
      "    values=\"\n",
      "      1;\n",
      "      2\n",
      "    \"\n",
      "  />\n",
      "  <animate attributeName=\"d\" repeatCount=\"indefinite\" dur=\"1s\"\n",
      "    KeyTimes=\"0.1; 0.2\"\n",
      "    values=\"\n",
      "      POINTS1;\n",
      "      POINTS2\n",
      "    \"\n",
      "  />\n",
      "</path>\n",
      "\n"
     ]
    }
   ],
   "source": [
    "print(svg.path(points=[(0.1,\"POINTS1\"), (0.2,\"POINTS2\")], color=[(None,\"COLOR\")], alpha=None, weight=[(0.8,1),(0.9,2)], dash=None, fill=None, duration=1))"
   ]
  },
  {
   "cell_type": "code",
   "execution_count": null,
   "metadata": {},
   "outputs": [],
   "source": []
  }
 ],
 "metadata": {
  "kernelspec": {
   "display_name": "Python 3",
   "language": "python",
   "name": "python3"
  },
  "language_info": {
   "codemirror_mode": {
    "name": "ipython",
    "version": 3
   },
   "file_extension": ".py",
   "mimetype": "text/x-python",
   "name": "python",
   "nbconvert_exporter": "python",
   "pygments_lexer": "ipython3",
   "version": "3.7.6"
  }
 },
 "nbformat": 4,
 "nbformat_minor": 4
}
