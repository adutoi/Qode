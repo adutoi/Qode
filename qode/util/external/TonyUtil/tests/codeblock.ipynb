{
 "cells": [
  {
   "cell_type": "markdown",
   "metadata": {},
   "source": [
    "© Copyright 2020 Anthony D. Dutoi\n",
    "\n",
    "This file is part of TonyUtil.\n",
    "\n",
    "TonyUtil is free software: you can redistribute it and/or modify\n",
    "it under the terms of the GNU General Public License as published by\n",
    "the Free Software Foundation, either version 3 of the License, or\n",
    "(at your option) any later version.\n",
    "\n",
    "This program is distributed in the hope that it will be useful,\n",
    "but WITHOUT ANY WARRANTY; without even the implied warranty of\n",
    "MERCHANTABILITY or FITNESS FOR A PARTICULAR PURPOSE.  See the\n",
    "GNU General Public License for more details.\n",
    "\n",
    "You should have received a copy of the GNU General Public License\n",
    "along with this program.  If not, see <http://www.gnu.org/licenses/>."
   ]
  },
  {
   "cell_type": "code",
   "execution_count": 1,
   "metadata": {},
   "outputs": [],
   "source": [
    "from util import struct, code_template"
   ]
  },
  {
   "cell_type": "code",
   "execution_count": 2,
   "metadata": {},
   "outputs": [
    {
     "data": {
      "text/plain": [
       "'Hi, Tony!'"
      ]
     },
     "execution_count": 2,
     "metadata": {},
     "output_type": "execute_result"
    }
   ],
   "source": [
    "hi = code_template(\"Hi, {name}!\")\n",
    "\n",
    "hi(name=\"Tony\")"
   ]
  },
  {
   "cell_type": "code",
   "execution_count": 3,
   "metadata": {},
   "outputs": [],
   "source": [
    "global_transform = code_template(\"\"\"\n",
    "  <g transform=\"translate({xtrans},{ytrans})\">\n",
    "  <g transform=\"scale({scale},{scale})\">\n",
    "    {svgcode}\n",
    "  </g>\n",
    "  </g>\n",
    "\"\"\")\n",
    "\n",
    "external_image = code_template(\"\"\"\n",
    "  <image width=\"100%\" height=\"100%\" xlink:href=\"{imgname}\">\n",
    "    {animate}\n",
    "  </image>\n",
    "\"\"\")\n",
    "\n",
    "embedded_image = code_template(\"\"\"\n",
    "  {image_code}\n",
    "  {animate}\n",
    "\"\"\")\n",
    "\n",
    "\n",
    "animation = code_template(\"\"\"\n",
    "  <animate id='frame_{id}' attributeName='display' values='{values}' dur='{duration}s' begin='0.0s' repeatCount=\"indefinite\"/>\n",
    "\"\"\")"
   ]
  },
  {
   "cell_type": "code",
   "execution_count": 4,
   "metadata": {},
   "outputs": [
    {
     "name": "stdout",
     "output_type": "stream",
     "text": [
      "||||||||||\n",
      "<g transform=\"translate(101,202)\">\n",
      "<g transform=\"scale(303,303)\">\n",
      "  <image width=\"100%\" height=\"100%\" xlink:href=\"lala\">\n",
      "    <animate id='frame_not' attributeName='display' values='so' dur='uglys' begin='0.0s' repeatCount=\"indefinite\"/>\n",
      "  </image>\n",
      "</g>\n",
      "</g>\n",
      "\n"
     ]
    }
   ],
   "source": [
    "print(\"||||||||||\")\n",
    "print(\n",
    "    global_transform(\n",
    "        xtrans  = \"101\",\n",
    "        ytrans  = \"202\",\n",
    "        scale   = \"303\",\n",
    "        svgcode = external_image(\n",
    "            imgname = \"lala\",\n",
    "            animate = animation(\n",
    "                id       = \"not\",\n",
    "                values   = \"so\",\n",
    "                duration = \"ugly\"\n",
    "            )\n",
    "        )\n",
    "    )\n",
    ")"
   ]
  },
  {
   "cell_type": "code",
   "execution_count": 5,
   "metadata": {},
   "outputs": [
    {
     "name": "stdout",
     "output_type": "stream",
     "text": [
      "||||||||||\n",
      " <g transform=\"translate(101,202)\">\n",
      " <g transform=\"scale(303,303)\">\n",
      "   <image width=\"100%\" height=\"100%\" xlink:href=\"lala\">\n",
      "   </image>\n",
      " </g>\n",
      " </g>\n",
      "\n"
     ]
    }
   ],
   "source": [
    "print(\"||||||||||\")\n",
    "print(\n",
    "    global_transform(indent = 1,\n",
    "        xtrans  = \"101\",\n",
    "        ytrans  = \"202\",\n",
    "        scale   = \"303\",\n",
    "        svgcode = external_image(\n",
    "            imgname = \"lala\",\n",
    "            animate = \"\"\n",
    "        )\n",
    "    )\n",
    ")"
   ]
  },
  {
   "cell_type": "code",
   "execution_count": 6,
   "metadata": {},
   "outputs": [
    {
     "name": "stdout",
     "output_type": "stream",
     "text": [
      "||||||||||\n",
      "  <g transform=\"translate(101,202)\">\n",
      "  <g transform=\"scale(303,303)\">\n",
      "    {image_code}\n",
      "  </g>\n",
      "  </g>\n",
      "\n"
     ]
    }
   ],
   "source": [
    "print(\"||||||||||\")\n",
    "print(\n",
    "    global_transform(indent = 2,\n",
    "        xtrans  = \"101\",\n",
    "        ytrans  = \"202\",\n",
    "        scale   = \"303\",\n",
    "        svgcode = embedded_image(\n",
    "            image_code = \"{image_code}\\n\",\n",
    "            animate = \"\"\n",
    "        )\n",
    "    )\n",
    ")"
   ]
  },
  {
   "cell_type": "code",
   "execution_count": 7,
   "metadata": {},
   "outputs": [
    {
     "name": "stdout",
     "output_type": "stream",
     "text": [
      "||||||||||\n",
      "   <g transform=\"translate(101,202)\">\n",
      "   <g transform=\"scale(303,303)\">\n",
      "     {image_code}\n",
      "     <animate id='frame_not' attributeName='display' values='so' dur='uglys' begin='0.0s' repeatCount=\"indefinite\"/>\n",
      "   </g>\n",
      "   </g>\n",
      "\n"
     ]
    }
   ],
   "source": [
    "print(\"||||||||||\")\n",
    "print(\n",
    "    global_transform(indent = 3,\n",
    "        xtrans  = \"101\",\n",
    "        ytrans  = \"202\",\n",
    "        scale   = \"303\",\n",
    "        svgcode = embedded_image(\n",
    "            image_code = \"{image_code}\\n\",\n",
    "            animate = animation(\n",
    "                id       = \"not\",\n",
    "                values   = \"so\",\n",
    "                duration = \"ugly\"\n",
    "            )\n",
    "        )\n",
    "    )\n",
    ")"
   ]
  },
  {
   "cell_type": "code",
   "execution_count": 8,
   "metadata": {},
   "outputs": [],
   "source": [
    "from util.javascript import script_in_svg"
   ]
  },
  {
   "cell_type": "code",
   "execution_count": 9,
   "metadata": {},
   "outputs": [],
   "source": [
    "anim_keys = {\"toggleKeys\": [\"space\"], \"resetKeys\": [\"escape\"], \"backKeys\": [\"left-arrow\"], \"forwardKeys\": [\"right-arrow\"]}\n",
    "animate = struct(controls=anim_keys, count=101, duration=1001)\n",
    "\n",
    "page_keys = {\"prevKeys\": [\"up-arrow\"], \"nextKeys\": [\"dn-arrow\"]}\n",
    "paginate = struct(controls=page_keys, prev_doc=\"0.svg\", next_doc=\"2.svg\")"
   ]
  },
  {
   "cell_type": "code",
   "execution_count": 10,
   "metadata": {},
   "outputs": [
    {
     "name": "stdout",
     "output_type": "stream",
     "text": [
      "\n"
     ]
    }
   ],
   "source": [
    "print(script_in_svg()[1])"
   ]
  },
  {
   "cell_type": "code",
   "execution_count": 11,
   "metadata": {},
   "outputs": [
    {
     "name": "stdout",
     "output_type": "stream",
     "text": [
      "<script><![CDATA[\n",
      "\n",
      "  var SVGDocument = null;\n",
      "  var SVGRoot     = null;\n",
      "  var svgns       = 'http://www.w3.org/2000/svg';\n",
      "  var xlinkns     = 'http://www.w3.org/1999/xlink';\n",
      "  var pauseButton = null;\n",
      "  var playButton  = null;\n",
      "\n",
      "  function Init(evt)\n",
      "  {\n",
      "    SVGDocument = evt.target.ownerDocument;\n",
      "    SVGRoot     = SVGDocument.documentElement;\n",
      "    pauseButton = SVGDocument.getElementById('pauseGroup');\n",
      "    playButton  = SVGDocument.getElementById('playGroup');\n",
      "    SVGRoot.addEventListener('keyup', function (e) {if(e.keyCode==32){Toggle();}else if(e.keyCode==27){Reset(0);}else if(e.keyCode==37){FrameBackward();}else if(e.keyCode==39){FrameForward();}}, false);\n",
      "    SVGRoot.pauseAnimations();\n",
      "  };\n",
      "\n",
      "  function Toggle()\n",
      "  {\n",
      "    if (SVGRoot.animationsPaused()) {Play();}\n",
      "    else                            {Pause();}\n",
      "  };\n",
      "\n",
      "  function Pause()\n",
      "  {\n",
      "    SVGRoot.pauseAnimations();\n",
      "    pauseButton.setAttributeNS(null, 'display', 'none');\n",
      "    playButton.setAttributeNS(null, 'display', 'inline');\n",
      "  };\n",
      "\n",
      "  function Play()\n",
      "  {\n",
      "    SVGRoot.unpauseAnimations();\n",
      "    playButton.setAttributeNS(null, 'display', 'none');\n",
      "    pauseButton.setAttributeNS(null, 'display', 'inline');\n",
      "  };\n",
      "\n",
      "  function Reset(timepoint)\n",
      "  {\n",
      "    SVGRoot.setCurrentTime(timepoint);\n",
      "  };\n",
      "\n",
      "  function FrameForward()\n",
      "  {\n",
      "    timepoint = SVGRoot.getCurrentTime() + 1001*1.001/101\n",
      "    SVGRoot.setCurrentTime(timepoint);\n",
      "  };\n",
      "\n",
      "  function FrameBackward()\n",
      "  {\n",
      "    timepoint = SVGRoot.getCurrentTime() - 1001*1.001/101\n",
      "    SVGRoot.setCurrentTime(timepoint);\n",
      "  };\n",
      "\n",
      "]]></script>\n",
      "\n"
     ]
    }
   ],
   "source": [
    "print(script_in_svg(animate=animate)[1])"
   ]
  },
  {
   "cell_type": "code",
   "execution_count": 12,
   "metadata": {},
   "outputs": [
    {
     "name": "stdout",
     "output_type": "stream",
     "text": [
      "<script><![CDATA[\n",
      "\n",
      "  var SVGDocument = null;\n",
      "  var SVGRoot     = null;\n",
      "  var svgns       = 'http://www.w3.org/2000/svg';\n",
      "  var xlinkns     = 'http://www.w3.org/1999/xlink';\n",
      "\n",
      "  function Init(evt)\n",
      "  {\n",
      "    SVGDocument = evt.target.ownerDocument;\n",
      "    SVGRoot     = SVGDocument.documentElement;\n",
      "    SVGRoot.addEventListener('keyup', function (e) {if(e.keyCode==38){PrevDoc();}else if(e.keyCode==40){NextDoc();}}, false);\n",
      "  };\n",
      "\n",
      "  function PrevDoc()\n",
      "  {\n",
      "    window.location.href = \"0.svg\";\n",
      "  };\n",
      "\n",
      "  function NextDoc()\n",
      "  {\n",
      "    window.location.href = \"2.svg\";\n",
      "  };\n",
      "\n",
      "]]></script>\n",
      "\n"
     ]
    }
   ],
   "source": [
    "print(script_in_svg(paginate=paginate)[1])"
   ]
  },
  {
   "cell_type": "code",
   "execution_count": 13,
   "metadata": {},
   "outputs": [
    {
     "name": "stdout",
     "output_type": "stream",
     "text": [
      "<script><![CDATA[\n",
      "\n",
      "  var SVGDocument = null;\n",
      "  var SVGRoot     = null;\n",
      "  var svgns       = 'http://www.w3.org/2000/svg';\n",
      "  var xlinkns     = 'http://www.w3.org/1999/xlink';\n",
      "  var pauseButton = null;\n",
      "  var playButton  = null;\n",
      "\n",
      "  function Init(evt)\n",
      "  {\n",
      "    SVGDocument = evt.target.ownerDocument;\n",
      "    SVGRoot     = SVGDocument.documentElement;\n",
      "    pauseButton = SVGDocument.getElementById('pauseGroup');\n",
      "    playButton  = SVGDocument.getElementById('playGroup');\n",
      "    SVGRoot.addEventListener('keyup', function (e) {if(e.keyCode==32){Toggle();}else if(e.keyCode==27){Reset(0);}else if(e.keyCode==37){FrameBackward();}else if(e.keyCode==39){FrameForward();}else if(e.keyCode==38){PrevDoc();}else if(e.keyCode==40){NextDoc();}}, false);\n",
      "    SVGRoot.pauseAnimations();\n",
      "  };\n",
      "\n",
      "  function Toggle()\n",
      "  {\n",
      "    if (SVGRoot.animationsPaused()) {Play();}\n",
      "    else                            {Pause();}\n",
      "  };\n",
      "\n",
      "  function Pause()\n",
      "  {\n",
      "    SVGRoot.pauseAnimations();\n",
      "    pauseButton.setAttributeNS(null, 'display', 'none');\n",
      "    playButton.setAttributeNS(null, 'display', 'inline');\n",
      "  };\n",
      "\n",
      "  function Play()\n",
      "  {\n",
      "    SVGRoot.unpauseAnimations();\n",
      "    playButton.setAttributeNS(null, 'display', 'none');\n",
      "    pauseButton.setAttributeNS(null, 'display', 'inline');\n",
      "  };\n",
      "\n",
      "  function Reset(timepoint)\n",
      "  {\n",
      "    SVGRoot.setCurrentTime(timepoint);\n",
      "  };\n",
      "\n",
      "  function FrameForward()\n",
      "  {\n",
      "    timepoint = SVGRoot.getCurrentTime() + 1001*1.001/101\n",
      "    SVGRoot.setCurrentTime(timepoint);\n",
      "  };\n",
      "\n",
      "  function FrameBackward()\n",
      "  {\n",
      "    timepoint = SVGRoot.getCurrentTime() - 1001*1.001/101\n",
      "    SVGRoot.setCurrentTime(timepoint);\n",
      "  };\n",
      "\n",
      "  function PrevDoc()\n",
      "  {\n",
      "    window.location.href = \"0.svg\";\n",
      "  };\n",
      "\n",
      "  function NextDoc()\n",
      "  {\n",
      "    window.location.href = \"2.svg\";\n",
      "  };\n",
      "\n",
      "]]></script>\n",
      "\n"
     ]
    }
   ],
   "source": [
    "print(script_in_svg(animate=animate, paginate=paginate)[1])"
   ]
  },
  {
   "cell_type": "code",
   "execution_count": null,
   "metadata": {},
   "outputs": [],
   "source": []
  }
 ],
 "metadata": {
  "kernelspec": {
   "display_name": "Python 3",
   "language": "python",
   "name": "python3"
  },
  "language_info": {
   "codemirror_mode": {
    "name": "ipython",
    "version": 3
   },
   "file_extension": ".py",
   "mimetype": "text/x-python",
   "name": "python",
   "nbconvert_exporter": "python",
   "pygments_lexer": "ipython3",
   "version": "3.7.6"
  }
 },
 "nbformat": 4,
 "nbformat_minor": 4
}
